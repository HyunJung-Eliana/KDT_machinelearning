{
 "cells": [
  {
   "cell_type": "code",
   "execution_count": 1,
   "id": "84ea09a1",
   "metadata": {},
   "outputs": [],
   "source": [
    "import pickle"
   ]
  },
  {
   "cell_type": "markdown",
   "id": "b3dae131",
   "metadata": {},
   "source": [
    "https://docs.python.org/ko/3/library/pickle.html\n",
    "dump : 저장\n",
    "load : input"
   ]
  },
  {
   "cell_type": "code",
   "execution_count": 2,
   "id": "858747c2",
   "metadata": {},
   "outputs": [],
   "source": [
    "favorite = {'lion':'yellow','tiger':'red'}"
   ]
  },
  {
   "cell_type": "code",
   "execution_count": 4,
   "id": "c87929f5",
   "metadata": {},
   "outputs": [],
   "source": [
    "# as machine learning, favorite --> model variable\n",
    "pickle.dump(favorite, open('./saves/favorite_save.pkl', 'wb'))"
   ]
  },
  {
   "cell_type": "code",
   "execution_count": null,
   "id": "76284463",
   "metadata": {},
   "outputs": [],
   "source": []
  }
 ],
 "metadata": {
  "kernelspec": {
   "display_name": "Python 3",
   "language": "python",
   "name": "python3"
  },
  "language_info": {
   "codemirror_mode": {
    "name": "ipython",
    "version": 3
   },
   "file_extension": ".py",
   "mimetype": "text/x-python",
   "name": "python",
   "nbconvert_exporter": "python",
   "pygments_lexer": "ipython3",
   "version": "3.6.4"
  }
 },
 "nbformat": 4,
 "nbformat_minor": 5
}
